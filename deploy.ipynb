version https://git-lfs.github.com/spec/v1
oid sha256:5a0db55be55d7e06ec24d4ae86cc124d506e62af7b42cf2268871adc5fb64a17
size 52737661
